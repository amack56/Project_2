{
 "cells": [
  {
   "cell_type": "code",
   "execution_count": 11,
   "id": "9799ff4e",
   "metadata": {},
   "outputs": [],
   "source": [
    "import numpy as np\n",
    "import pandas as pd\n",
    "from pathlib import Path\n",
    "%matplotlib inline\n",
    "import seaborn as sns\n",
    "import matplotlib.pyplot as plt"
   ]
  },
  {
   "cell_type": "code",
   "execution_count": 3,
   "id": "8d9cbfad",
   "metadata": {},
   "outputs": [],
   "source": [
    "from os import listdir\n",
    "from os.path import isfile"
   ]
  },
  {
   "cell_type": "code",
   "execution_count": 4,
   "id": "24a43d62",
   "metadata": {},
   "outputs": [],
   "source": [
    "from sklearn.model_selection import train_test_split\n",
    "from sklearn.model_selection import cross_val_score\n",
    "from sklearn.model_selection import StratifiedKFold\n",
    "from sklearn.metrics import classification_report\n",
    "from sklearn.metrics import confusion_matrix\n",
    "from sklearn.metrics import accuracy_score\n",
    "from sklearn.linear_model import LogisticRegression\n",
    "from sklearn.tree import DecisionTreeClassifier\n",
    "from sklearn.neighbors import KNeighborsClassifier\n",
    "from sklearn.discriminant_analysis import LinearDiscriminantAnalysis\n",
    "from sklearn.naive_bayes import GaussianNB\n",
    "from sklearn.svm import SVC"
   ]
  },
  {
   "cell_type": "code",
   "execution_count": 5,
   "id": "e8e18e46",
   "metadata": {},
   "outputs": [],
   "source": [
    "dir = \"../Resources/\""
   ]
  },
  {
   "cell_type": "code",
   "execution_count": 6,
   "id": "fda3809a",
   "metadata": {},
   "outputs": [
    {
     "data": {
      "text/plain": [
       "['corn.xlsx',\n",
       " 'live cattle.xlsx',\n",
       " 'corn_2.xlsx',\n",
       " 'feeder cattle.xlsx',\n",
       " 'soybean meal.xlsx',\n",
       " 'lean hogs.xlsx']"
      ]
     },
     "execution_count": 6,
     "metadata": {},
     "output_type": "execute_result"
    }
   ],
   "source": [
    "all_files = [x for x in listdir(dir) if (\".xlsx\" in x or \".csv\" in x)]\n",
    "all_files"
   ]
  },
  {
   "cell_type": "code",
   "execution_count": 7,
   "id": "5a0161f8",
   "metadata": {},
   "outputs": [],
   "source": [
    "all_df = pd.DataFrame()\n",
    "for x in all_files:\n",
    "    a = x.replace(\".xlsx\", \"\")\n",
    "    df = pd.read_excel(dir+x)\n",
    "    df[\"name\"] = a\n",
    "    df[\"Date\"] = pd.to_datetime(df[\"Date\"])\n",
    "    df = df.set_index(\"Date\")\n",
    "    df = df.sort_index()\n",
    "    df = df.dropna()\n",
    "    df = df[df['Volume'] != 0.0]\n",
    "    df.drop(['Volume'], axis=1, inplace=True)\n",
    "    if a == \"corn_2\":\n",
    "        corn = df\n",
    "        all_df[\"corn\"] = corn[\"Price\"]\n",
    "    elif a == \"live cattle\":\n",
    "        live_cattle = df\n",
    "        all_df[\"live_cattle\"] = live_cattle[\"Price\"]\n",
    "    elif a == \"feeder cattle\":\n",
    "        feeder_cattle = df\n",
    "        all_df[\"feeder_cattle\"] = feeder_cattle[\"Price\"]\n",
    "    elif a == \"soybean meal\":\n",
    "        soybean = df\n",
    "        all_df[\"soybean\"] = soybean[\"Price\"]\n",
    "    elif a == \"lean hogs\":\n",
    "        hog = df\n",
    "        all_df[\"hog\"] = hog[\"Price\"]"
   ]
  },
  {
   "cell_type": "code",
   "execution_count": null,
   "id": "a258cda7",
   "metadata": {},
   "outputs": [],
   "source": [
    "all_df.head()"
   ]
  },
  {
   "cell_type": "code",
   "execution_count": 13,
   "id": "db692720",
   "metadata": {},
   "outputs": [
    {
     "data": {
      "image/png": "[encoded data removed]",
      "text/plain": [
       "<Figure size 720x504 with 2 Axes>"
      ]
     },
     "metadata": {},
     "output_type": "display_data"
    }
   ],
   "source": [
    "all_df = all_df.dropna()\n",
    "corrM = all_df.corr()\n",
    "\n",
    "mask = np.zeros_like(corrM)\n",
    "mask[np.triu_indices_from(mask)] = True\n",
    "with sns.axes_style(\"white\"):\n",
    "    f, ax = plt.subplots(figsize=(10,7))\n",
    "    ax = sns.heatmap(corrM, mask=mask, center=0, annot=True, square=True, linewidths=1, cmap=\"seismic\")"
   ]
  },
  {
   "cell_type": "code",
   "execution_count": null,
   "id": "65a759fa",
   "metadata": {},
   "outputs": [],
   "source": [
    "# live_cattle.head()\n",
    "# live_cattle.plot(figsize=(8, 6))"
   ]
  },
  {
   "cell_type": "code",
   "execution_count": null,
   "id": "92998d72",
   "metadata": {},
   "outputs": [],
   "source": [
    "# feeder_cattle.head()\n",
    "# feeder_cattle.plot(figsize=(8, 6))"
   ]
  },
  {
   "cell_type": "code",
   "execution_count": null,
   "id": "1b9e6230",
   "metadata": {},
   "outputs": [],
   "source": [
    "# soybean.head()\n",
    "# soybean.plot(figsize=(8, 6))"
   ]
  },
  {
   "cell_type": "code",
   "execution_count": null,
   "id": "2c915442",
   "metadata": {},
   "outputs": [],
   "source": [
    "# hog.head()\n",
    "# hog.plot(figsize=(8, 6))"
   ]
  },
  {
   "cell_type": "code",
   "execution_count": null,
   "id": "5a04df82",
   "metadata": {},
   "outputs": [],
   "source": []
  },
  {
   "cell_type": "code",
   "execution_count": null,
   "id": "f4caf360",
   "metadata": {},
   "outputs": [],
   "source": []
  }
 ],
 "metadata": {
  "kernelspec": {
   "display_name": "Python [conda env:pyvizenv2] *",
   "language": "python",
   "name": "conda-env-pyvizenv2-py"
  },
  "language_info": {
   "codemirror_mode": {
    "name": "ipython",
    "version": 3
   },
   "file_extension": ".py",
   "mimetype": "text/x-python",
   "name": "python",
   "nbconvert_exporter": "python",
   "pygments_lexer": "ipython3",
   "version": "3.7.7"
  }
 },
 "nbformat": 4,
 "nbformat_minor": 5
}
