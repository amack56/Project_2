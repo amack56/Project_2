{
 "cells": [
  {
   "cell_type": "code",
   "execution_count": null,
   "id": "6a5516e9",
   "metadata": {},
   "outputs": [],
   "source": [
    "# !pip install panel\n",
    "# !pip install plotly"
   ]
  },
  {
   "cell_type": "code",
   "execution_count": null,
   "id": "f5e8670a",
   "metadata": {},
   "outputs": [],
   "source": [
    "# imports\n",
    "\n",
    "import panel as pn\n",
    "# pn.extension('plotly')\n",
    "# import plotly.express as px\n",
    "# import plotly.figure_factory as ff\n",
    "import pandas as pd\n",
    "import hvplot.pandas\n",
    "import matplotlib.pyplot as plt\n",
    "import numpy as np\n",
    "import os\n",
    "from pathlib import Path\n",
    "from dotenv import load_dotenv\n",
    "import warnings\n",
    "import plotly.graph_objs as go\n",
    "import seaborn as sns\n",
    "import holoviews as hv\n",
    "warnings.filterwarnings('ignore')\n",
    "from sklearn.preprocessing import StandardScaler\n",
    "from sklearn.preprocessing import MinMaxScaler\n",
    "\n",
    "\n",
    "# Read in coordinate data"
   ]
  },
  {
   "cell_type": "code",
   "execution_count": null,
   "id": "1af86a15",
   "metadata": {},
   "outputs": [],
   "source": [
    "df_path = Path('all_df.csv')\n",
    "all_df = pd.read_csv(df_path, index_col=\"Date\", infer_datetime_format=True, parse_dates=True)"
   ]
  },
  {
   "cell_type": "code",
   "execution_count": null,
   "id": "0498b045",
   "metadata": {},
   "outputs": [],
   "source": [
    "all_df.head()"
   ]
  },
  {
   "cell_type": "code",
   "execution_count": null,
   "id": "5f0b7d4c",
   "metadata": {},
   "outputs": [],
   "source": [
    "def create_date_vs_crush_plot():\n",
    "    f =all_df.hvplot(x='Date', y='crush')\n",
    "    return f"
   ]
  },
  {
   "cell_type": "code",
   "execution_count": null,
   "id": "f7c20ff1",
   "metadata": {},
   "outputs": [],
   "source": [
    "def standard_scaler_plot():\n",
    "    std_scaler = StandardScaler()\n",
    "\n",
    "    df_std_scaled = std_scaler.fit_transform(all_df.to_numpy())\n",
    "    df_std_scaled = pd.DataFrame(df_std_scaled, columns = ['crush', 'hog', 'soybean_meal', 'corn'])\n",
    "\n",
    "    return df_std_scaled.hvplot()"
   ]
  },
  {
   "cell_type": "code",
   "execution_count": null,
   "id": "7d20884f",
   "metadata": {},
   "outputs": [],
   "source": [
    "def min_max_scaler_plot():\n",
    "    mm_scaler = MinMaxScaler()\n",
    "    df_mm_scaled = mm_scaler.fit_transform(all_df.to_numpy())\n",
    "    df_mm_scaled = pd.DataFrame(df_mm_scaled, columns = ['crush', 'hog', 'soybean_meal', 'corn'])\n",
    "\n",
    "    return df_mm_scaled.hvplot()"
   ]
  },
  {
   "cell_type": "code",
   "execution_count": null,
   "id": "a2409ef8",
   "metadata": {},
   "outputs": [],
   "source": [
    "df_adj = all_df.copy()\n",
    "df_adj['corn'] = all_df['corn']*5000\n",
    "df_adj['soybean_meal'] = all_df['soybean_meal']*100\n",
    "df_adj['hog'] = all_df['hog']*400\n",
    "\n",
    "df_adj"
   ]
  },
  {
   "cell_type": "code",
   "execution_count": null,
   "id": "97491f1e",
   "metadata": {},
   "outputs": [],
   "source": [
    "def corr_plot():\n",
    "    corrM = df_adj.corr()\n",
    "    mask = np.zeros_like(corrM)\n",
    "    mask[np.triu_indices_from(mask)] = True\n",
    "    with sns.axes_style(\"white\"):\n",
    "        f, ax = plt.subplots(figsize=(10,7))\n",
    "        ax = sns.heatmap(corrM, mask=mask, center=0, annot=True, square=True, linewidths=1, cmap=\"seismic\")\n",
    "    return f"
   ]
  },
  {
   "cell_type": "code",
   "execution_count": null,
   "id": "46cdbb31",
   "metadata": {},
   "outputs": [],
   "source": [
    "def get_adj_totals():\n",
    "    df_adj_totals = df_adj.copy()\n",
    "    df_adj_totals['corn'] = df_adj_totals['corn']*3\n",
    "    df_adj_totals['hog'] = df_adj_totals['hog']*8\n",
    "    df_adj_totals['soybean_meal'] = df_adj_totals['soybean_meal']*1\n",
    "    df_adj_totals['corn + soybean_meal'] = df_adj_totals['corn'] + df_adj_totals['soybean_meal']\n",
    "    return df_adj_totals"
   ]
  },
  {
   "cell_type": "code",
   "execution_count": null,
   "id": "79276196",
   "metadata": {},
   "outputs": [],
   "source": [
    "def df_adj_totals_plot():\n",
    "    df_adj_totals = df_adj.copy()\n",
    "    df_adj_totals['corn'] = df_adj_totals['corn']*3\n",
    "    df_adj_totals['hog'] = df_adj_totals['hog']*8\n",
    "    df_adj_totals['soybean_meal'] = df_adj_totals['soybean_meal']*1\n",
    "    df_adj_totals['corn + soybean_meal'] = df_adj_totals['corn'] + df_adj_totals['soybean_meal']\n",
    "    return df_adj_totals.hvplot(x='Date', y=['hog', 'corn + soybean_meal'])"
   ]
  },
  {
   "cell_type": "code",
   "execution_count": null,
   "id": "d621cfd8",
   "metadata": {},
   "outputs": [],
   "source": [
    "def mean_line_plot():\n",
    "    mean_line = hv.HLine(all_df['crush'].mean())\n",
    "    mean_line.opts(color = 'black', line_dash = 'dashed', line_width=2.0)\n",
    "    plot = all_df.hvplot(x='Date', y='crush', yformatter='%.0f')\n",
    "    return plot * mean_line"
   ]
  },
  {
   "cell_type": "code",
   "execution_count": null,
   "id": "9b8f95f0",
   "metadata": {},
   "outputs": [],
   "source": [
    "def zscore(series):\n",
    "    return (series - series.mean()) / np.std(series)"
   ]
  },
  {
   "cell_type": "code",
   "execution_count": null,
   "id": "bdeeaaa2",
   "metadata": {},
   "outputs": [],
   "source": [
    "# Plot z-scores of the ratio\n",
    "\n",
    "def zscore_plot():\n",
    "    all_df_z = all_df.copy()\n",
    "    all_df_z['Z-Score'] = zscore(all_df_z['crush'])\n",
    "    zscore_plot = all_df_z.hvplot(x='Date', y=['Z-Score'])\n",
    "    z_zero_line = hv.HLine(0)\n",
    "    z_zero_line.opts(color = 'black', line_dash = 'dashed', line_width=2.0)\n",
    "    z_plus_one = hv.HLine(1)\n",
    "    z_plus_one.opts(color = 'orange', line_dash = 'dashed', line_width=2.0)\n",
    "    z_minus_one = hv.HLine(-1)\n",
    "    z_minus_one.opts(color = 'green', line_dash = 'dashed', line_width=2.0)\n",
    "    z_plus_two = hv.HLine(2)\n",
    "    z_plus_two.opts(color = 'red', line_dash = 'dashed', line_width=2.0)\n",
    "    z_minus_two = hv.HLine(-2)\n",
    "    z_minus_two.opts(color = 'purple', line_dash = 'dashed', line_width=2.0)\n",
    "\n",
    "    return zscore_plot * z_zero_line * z_plus_one * z_minus_one * z_plus_two * z_minus_two\n"
   ]
  },
  {
   "cell_type": "code",
   "execution_count": null,
   "id": "eef69f01",
   "metadata": {},
   "outputs": [],
   "source": [
    "def feature_engineering_plot():\n",
    "    all_df_z = all_df.copy()\n",
    "    all_df_z['Z-Score'] = zscore(all_df_z['crush'])\n",
    "    train = all_df_z.copy()\n",
    "    feature_train = train['Z-Score']\n",
    "\n",
    "    ratios_mavg5 = feature_train.rolling(window=5, center=False).mean()\n",
    "    ratios_mavg60 = feature_train.rolling(window=60, center=False).mean()\n",
    "    std_60 = feature_train.rolling(window=60, center=False).std()\n",
    "    zscore_60_5 = (ratios_mavg5 - ratios_mavg60)/std_60\n",
    "    f, ax = plt.subplots(figsize=(12, 6))\n",
    "    ax.plot(feature_train.index, feature_train.values)\n",
    "    ax.plot(ratios_mavg5.index, ratios_mavg5.values)\n",
    "    ax.plot(ratios_mavg60.index, ratios_mavg60.values)\n",
    "    plt.legend(['Ratio', '5d Ratio MA', '60d Ratio MA'])\n",
    "    plt.ylabel('Z-Score')\n",
    "    return f\n"
   ]
  },
  {
   "cell_type": "code",
   "execution_count": null,
   "id": "004a733d",
   "metadata": {},
   "outputs": [],
   "source": [
    "def rolling_ratio_plot():\n",
    "    all_df_z = all_df.copy()\n",
    "    all_df_z['Z-Score'] = zscore(all_df_z['crush'])\n",
    "    train = all_df_z.copy()\n",
    "    feature_train = train['Z-Score']\n",
    "    ratios_mavg5 = feature_train.rolling(window=5, center=False).mean()\n",
    "    ratios_mavg60 = feature_train.rolling(window=60, center=False).mean()\n",
    "    std_60 = feature_train.rolling(window=60, center=False).std()\n",
    "    zscore_60_5 = (ratios_mavg5 - ratios_mavg60)/std_60\n",
    "    figure = plt.figure(figsize=(12,6))\n",
    "    zscore_60_5.plot(grid=True)\n",
    "    plt.axhline(0, color='black')\n",
    "    plt.axhline(1.0, color='red', linestyle='--')\n",
    "    plt.axhline(-1.0, color='green', linestyle='--')\n",
    "    plt.legend(['Rolling Ratio z-Score', 'Mean', '+1', '-1'])\n",
    "    return figure"
   ]
  },
  {
   "cell_type": "code",
   "execution_count": null,
   "id": "53fb949a",
   "metadata": {},
   "outputs": [],
   "source": [
    "def buy_sell_signal_plot():\n",
    "    all_df_z = all_df.copy()\n",
    "    all_df_z['Z-Score'] = zscore(all_df_z['crush'])\n",
    "    train = all_df_z.copy()\n",
    "    feature_train = train['Z-Score']\n",
    "    ratios_mavg5 = feature_train.rolling(window=5, center=False).mean()\n",
    "    ratios_mavg60 = feature_train.rolling(window=60, center=False).mean()\n",
    "    std_60 = feature_train.rolling(window=60, center=False).std()\n",
    "    zscore_60_5 = (ratios_mavg5 - ratios_mavg60)/std_60\n",
    "    figure = plt.figure(figsize=(12,6))\n",
    "    feature_train[160:].plot()\n",
    "    buy = feature_train.copy()\n",
    "    sell = feature_train.copy()\n",
    "    buy[zscore_60_5>-1] = 0\n",
    "    sell[zscore_60_5<1] = 0\n",
    "    buy[160:].plot(color='g', linestyle='None', marker='^')\n",
    "    sell[160:].plot(color='r', linestyle='None', marker='^')\n",
    "    x1, x2, y1, y2 = plt.axis()\n",
    "    plt.axis((x1, x2, train['Z-Score'].min(), train['Z-Score'].max()))\n",
    "    plt.legend(['Z-Score', 'Buy Signal', 'Sell Signal'])\n",
    "    return figure"
   ]
  },
  {
   "cell_type": "code",
   "execution_count": null,
   "id": "36a419f0",
   "metadata": {},
   "outputs": [],
   "source": [
    "def hog_corn_buy_sell_plot():\n",
    "    all_df_z = all_df.copy()\n",
    "    all_df_z['Z-Score'] = zscore(all_df_z['crush'])\n",
    "    train = all_df_z.copy()\n",
    "    feature_train = train['Z-Score']\n",
    "    ratios_mavg5 = feature_train.rolling(window=5, center=False).mean()\n",
    "    ratios_mavg60 = feature_train.rolling(window=60, center=False).mean()\n",
    "    std_60 = feature_train.rolling(window=60, center=False).std()\n",
    "    zscore_60_5 = (ratios_mavg5 - ratios_mavg60)/std_60\n",
    "    buy = feature_train.copy()\n",
    "    sell = feature_train.copy()\n",
    "    buy[zscore_60_5>-1] = 0\n",
    "    sell[zscore_60_5<1] = 0\n",
    "    \n",
    "    df_adj_totals = get_adj_totals()\n",
    "    figure = plt.figure(figsize=(12,7))\n",
    "    S1 = df_adj_totals['hog']\n",
    "    S2 = df_adj_totals['corn + soybean_meal']\n",
    "\n",
    "    S1[60:].plot(color='b')\n",
    "    S2[60:].plot(color='c')\n",
    "    buyR = 0*S1.copy()\n",
    "    sellR = 0*S1.copy()\n",
    "\n",
    "    # When you buy the ratio, you buy x and sell y\n",
    "    buyR[buy!=0] = S1[buy!=0]\n",
    "    sellR[buy!=0] = S2[buy!=0]\n",
    "\n",
    "    # When you sell the ratio, you sell x and buy y\n",
    "    buyR[sell!=0] = S2[sell!=0]\n",
    "    sellR[sell!=0] = S1[sell!=0]\n",
    "\n",
    "    buyR[60:].plot(color='g', linestyle='None', marker='^')\n",
    "    sellR[60:].plot(color='r', linestyle='None', marker='^')\n",
    "    x1, x2, y1, y2 = plt.axis()\n",
    "    plt.axis((x1, x2, min(S1.min(), S2.min())-30000, max(S1.max(), S2.max())+10000))\n",
    "\n",
    "    plt.legend(['hog', 'corn + soybean_meal'])\n",
    "    return figure"
   ]
  },
  {
   "cell_type": "code",
   "execution_count": null,
   "id": "043579d5",
   "metadata": {},
   "outputs": [],
   "source": [
    "# Trade using a simple strategy\n",
    "def trade(S1, S2, window1, window2):\n",
    "    \n",
    "    # If window length is 0, algorithm doesn't make sense, so exit\n",
    "    if (window1 == 0) or (window2 == 0):\n",
    "        return 0\n",
    "    \n",
    "    # Compute rolling mean and rolling standard deviation\n",
    "    ratios = S1/S2\n",
    "    ma1 = ratios.rolling(window=window1,\n",
    "                               center=False).mean()\n",
    "    ma2 = ratios.rolling(window=window2,\n",
    "                               center=False).mean()\n",
    "    std = ratios.rolling(window=window2,\n",
    "                        center=False).std()\n",
    "    zscore = (ma1 - ma2)/std\n",
    "    \n",
    "    # Simulate trading\n",
    "    # Start with no money and no positions\n",
    "    money = 0\n",
    "    countS1 = 0\n",
    "    countS2 = 0\n",
    "    \n",
    "    # intiliazae trading results dataframe\n",
    "    trading_results = pd.DataFrame(index=S1.index, columns=['equity', 'ratios', 'countS1', 'countS2'])\n",
    "    \n",
    "    for i in range(len(ratios)):\n",
    "        # Sell short if the z-score is > 1\n",
    "        if zscore[i] < -1:\n",
    "            money += S1[i] - S2[i] * ratios[i]\n",
    "            countS1 -= 1\n",
    "            countS2 += ratios[i]\n",
    "            trading_results['equity'][i] = money\n",
    "            trading_results['ratios'][i] = ratios[i]\n",
    "            trading_results['countS1'][i] = countS1\n",
    "            trading_results['countS2'][i] = countS2\n",
    "            #print('Selling Ratio %s %s %s %s'%(money, ratios[i], countS1,countS2))\n",
    "        # Buy long if the z-score is < -1\n",
    "        elif zscore[i] > 1:\n",
    "            money -= S1[i] - S2[i] * ratios[i]\n",
    "            countS1 += 1\n",
    "            countS2 -= ratios[i]\n",
    "            trading_results['equity'][i] = money\n",
    "            trading_results['ratios'][i] = ratios[i]\n",
    "            trading_results['countS1'][i] = countS1\n",
    "            trading_results['countS2'][i] = countS2\n",
    "            #print('Buying Ratio %s %s %s %s'%(money,ratios[i], countS1,countS2))\n",
    "        # Clear positions if the z-score between -.5 and .5\n",
    "        elif abs(zscore[i]) < 0.75:\n",
    "            money += S1[i] * countS1 + S2[i] * countS2\n",
    "            countS1 = 0\n",
    "            countS2 = 0\n",
    "            trading_results['equity'][i] = money\n",
    "            trading_results['ratios'][i] = ratios[i]\n",
    "            trading_results['countS1'][i] = countS1\n",
    "            trading_results['countS2'][i] = countS2\n",
    "            #print('Exit pos %s %s %s %s'%(money,ratios[i], countS1,countS2))\n",
    "            \n",
    "            \n",
    "    return money, trading_results"
   ]
  },
  {
   "cell_type": "code",
   "execution_count": null,
   "id": "565877f7",
   "metadata": {},
   "outputs": [],
   "source": [
    "def trading_plot():\n",
    "    df_adj_totals = get_adj_totals()\n",
    "    # Run the trading similuation and visualize the equity curve\n",
    "    train_total_equity, train_trading_results = trade(df_adj_totals['hog'], df_adj_totals['corn + soybean_meal'], 60, 5)\n",
    "    train_trading_results_plot = train_trading_results.dropna().hvplot(x='Date', y=['equity'], yformatter='%.0f')\n",
    "    return train_trading_results_plot"
   ]
  },
  {
   "cell_type": "code",
   "execution_count": null,
   "id": "1e338c6d",
   "metadata": {},
   "outputs": [],
   "source": [
    "# Create a Title for the Dashboard\n",
    "\n",
    "title = pn.pane.Markdown(\"\"\"\n",
    "## Agricultural Futures\n",
    "\"\"\")"
   ]
  },
  {
   "cell_type": "code",
   "execution_count": null,
   "id": "ff396363",
   "metadata": {},
   "outputs": [],
   "source": [
    "# Create a tab layout for the dashboard\n",
    "\n",
    "tabs = pn.Tabs(\n",
    "    (\"Crush\",  pn.Column(create_date_vs_crush_plot)),\n",
    "    (\"Standard Scaler\", pn.Column(standard_scaler_plot)),\n",
    "    (\"Min/Max Scaler\", pn.Column(min_max_scaler_plot)),\n",
    "    (\"Totals Plot\", pn.Column(\"Total\",df_adj_totals_plot)),\n",
    "    (\"Mean Line Plot\", pn.Column(mean_line_plot)),\n",
    "    (\"Correlation Plot\", pn.Column(corr_plot)),\n",
    "    (\"Z Score \", pn.Column(zscore_plot)),\n",
    "    (\"Feature Engineering plot\", pn.Column(feature_engineering_plot)),\n",
    "    (\"Rolling Ratio Plot\", pn.Column(rolling_ratio_plot)),\n",
    "    (\"Buy sell signal plot\", pn.Column(buy_sell_signal_plot)),\n",
    "    (\"Hog Corn Buy Sell plot\", pn.Column(hog_corn_buy_sell_plot)),\n",
    "    (\"Trading plot\", pn.Column(trading_plot)),\n",
    "    \n",
    "    \n",
    "    \n",
    "    \n",
    "    )"
   ]
  },
  {
   "cell_type": "code",
   "execution_count": null,
   "id": "b9d279a7",
   "metadata": {},
   "outputs": [],
   "source": [
    "# Create the dashboard\n",
    "\n",
    "dashboard = pn.Column(title, tabs)"
   ]
  },
  {
   "cell_type": "code",
   "execution_count": null,
   "id": "a9ef5c46",
   "metadata": {},
   "outputs": [],
   "source": [
    "dashboard"
   ]
  },
  {
   "cell_type": "code",
   "execution_count": null,
   "id": "67e32192",
   "metadata": {},
   "outputs": [],
   "source": [
    "# Serve the# dashboard\n",
    "\n",
    "dashboard.show()"
   ]
  },
  {
   "cell_type": "code",
   "execution_count": null,
   "id": "aab481e5",
   "metadata": {},
   "outputs": [],
   "source": []
  },
  {
   "cell_type": "code",
   "execution_count": null,
   "id": "1ab7b219",
   "metadata": {},
   "outputs": [],
   "source": []
  }
 ],
 "metadata": {
  "kernelspec": {
   "display_name": "Python [conda env:pyvizenv2] *",
   "language": "python",
   "name": "conda-env-pyvizenv2-py"
  },
  "language_info": {
   "codemirror_mode": {
    "name": "ipython",
    "version": 3
   },
   "file_extension": ".py",
   "mimetype": "text/x-python",
   "name": "python",
   "nbconvert_exporter": "python",
   "pygments_lexer": "ipython3",
   "version": "3.7.7"
  }
 },
 "nbformat": 4,
 "nbformat_minor": 5
}
