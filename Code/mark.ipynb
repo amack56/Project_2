{
 "cells": [
  {
   "cell_type": "code",
   "execution_count": 1,
   "id": "ec09a918",
   "metadata": {},
   "outputs": [
    {
     "ename": "ModuleNotFoundError",
     "evalue": "No module named 'hvplot'",
     "output_type": "error",
     "traceback": [
      "\u001b[0;31m---------------------------------------------------------------------------\u001b[0m",
      "\u001b[0;31mModuleNotFoundError\u001b[0m                       Traceback (most recent call last)",
      "\u001b[0;32m<ipython-input-1-bcf4509f7b29>\u001b[0m in \u001b[0;36m<module>\u001b[0;34m\u001b[0m\n\u001b[1;32m      7\u001b[0m \u001b[0;32mimport\u001b[0m \u001b[0mwarnings\u001b[0m\u001b[0;34m\u001b[0m\u001b[0;34m\u001b[0m\u001b[0m\n\u001b[1;32m      8\u001b[0m \u001b[0mwarnings\u001b[0m\u001b[0;34m.\u001b[0m\u001b[0mfilterwarnings\u001b[0m\u001b[0;34m(\u001b[0m\u001b[0;34m'ignore'\u001b[0m\u001b[0;34m)\u001b[0m\u001b[0;34m\u001b[0m\u001b[0;34m\u001b[0m\u001b[0m\n\u001b[0;32m----> 9\u001b[0;31m \u001b[0;32mimport\u001b[0m \u001b[0mhvplot\u001b[0m\u001b[0;34m.\u001b[0m\u001b[0mpandas\u001b[0m\u001b[0;34m\u001b[0m\u001b[0;34m\u001b[0m\u001b[0m\n\u001b[0m",
      "\u001b[0;31mModuleNotFoundError\u001b[0m: No module named 'hvplot'"
     ]
    }
   ],
   "source": [
    "import numpy as np\n",
    "import pandas as pd\n",
    "from pathlib import Path\n",
    "%matplotlib inline\n",
    "import seaborn as sns\n",
    "import matplotlib.pyplot as plt\n",
    "import warnings\n",
    "warnings.filterwarnings('ignore')\n",
    "import hvplot.pandas"
   ]
  },
  {
   "cell_type": "code",
   "execution_count": null,
   "id": "be018697",
   "metadata": {},
   "outputs": [],
   "source": [
    "from os import listdir\n",
    "from os.path import isfile"
   ]
  },
  {
   "cell_type": "code",
   "execution_count": null,
   "id": "bc0571f1",
   "metadata": {},
   "outputs": [],
   "source": [
    "from sklearn.linear_model import LinearRegression"
   ]
  },
  {
   "cell_type": "code",
   "execution_count": null,
   "id": "8152752d",
   "metadata": {},
   "outputs": [],
   "source": [
    "dir = \"../Resources/\""
   ]
  },
  {
   "cell_type": "code",
   "execution_count": null,
   "id": "a5eab1b4",
   "metadata": {},
   "outputs": [],
   "source": [
    "all_files = [x for x in listdir(dir) if (\".xlsx\" in x or \".csv\" in x)]\n",
    "all_files"
   ]
  },
  {
   "cell_type": "code",
   "execution_count": null,
   "id": "b7e9e896",
   "metadata": {},
   "outputs": [],
   "source": [
    "# pip install xlrd==1.2.0"
   ]
  },
  {
   "cell_type": "code",
   "execution_count": null,
   "id": "fe041108",
   "metadata": {},
   "outputs": [],
   "source": [
    "all_df = pd.DataFrame()\n",
    "for x in all_files:\n",
    "    a = x.replace(\".xlsx\", \"\")\n",
    "    df = pd.read_excel(dir+x)\n",
    "    df[\"name\"] = a\n",
    "    df[\"Date\"] = pd.to_datetime(df[\"Date\"])\n",
    "    df = df.set_index(\"Date\")\n",
    "    df = df.sort_index()\n",
    "    df = df.dropna()\n",
    "    df = df[df['Volume'] != 0.0]\n",
    "    df.drop(['Volume'], axis=1, inplace=True)\n",
    "    if a == \"corn\":\n",
    "        corn = df\n",
    "        all_df[\"corn\"] = corn[\"Price\"]\n",
    "    elif a == \"live_cattle\":\n",
    "        live_cattle = df\n",
    "        all_df[\"live_cattle\"] = live_cattle[\"Price\"]\n",
    "    elif a == \"feeder_cattle\":\n",
    "        feeder_cattle = df\n",
    "        all_df[\"feeder_cattle\"] = feeder_cattle[\"Price\"]\n",
    "    elif a == \"soybean_meal\":\n",
    "        soybean = df\n",
    "        all_df[\"soybean\"] = soybean[\"Price\"]\n",
    "    elif a == \"lean_hogs\":\n",
    "        hog = df\n",
    "        all_df[\"hog\"] = hog[\"Price\"]"
   ]
  },
  {
   "cell_type": "code",
   "execution_count": null,
   "id": "5d57802c",
   "metadata": {},
   "outputs": [],
   "source": [
    "all_df = all_df.dropna()\n",
    "corrM = all_df.corr()\n",
    "\n",
    "mask = np.zeros_like(corrM)\n",
    "mask[np.triu_indices_from(mask)] = True\n",
    "with sns.axes_style(\"white\"):\n",
    "    f, ax = plt.subplots(figsize=(10,7))\n",
    "    ax = sns.heatmap(corrM, mask=mask, center=0, annot=True, square=True, linewidths=1, cmap=\"seismic\")"
   ]
  },
  {
   "cell_type": "code",
   "execution_count": null,
   "id": "0c2da56a",
   "metadata": {},
   "outputs": [],
   "source": [
    "# all_df[\"corn_and_soybean\"] = ((all_df[\"corn\"]*10) + (all_df[\"soybean\"]*0.75))\n",
    "all_df['hog_delta_5'] = all_df[\"hog\"].shift(105)\n",
    "all_df['corn_delta_5'] = all_df[\"corn\"].shift(105)\n",
    "all_df['soybean_delta_5'] = all_df[\"soybean\"].shift(105)"
   ]
  },
  {
   "cell_type": "code",
   "execution_count": null,
   "id": "a2224a4e",
   "metadata": {},
   "outputs": [],
   "source": [
    "# all_df2 = all_df.pct_change(7)\n",
    "all_df2 = all_df.dropna()"
   ]
  },
  {
   "cell_type": "code",
   "execution_count": null,
   "id": "c8bb844f",
   "metadata": {},
   "outputs": [],
   "source": [
    "# Crush Margin = 2 x CME lean hog futures price (5 months\n",
    "# from placement) – 0.5 x CME lean hog futures price (5\n",
    "# months from placement) – 10 x CME corn futures price (at\n",
    "# placement) – 0.075 x CME soybean meal futures price (at\n",
    "# placement)\n",
    "# GFM t= 2.05 * LH t - WP t-5-(10 * C t-5)-(0.075 * SM t-5)\n",
    "all_df[\"GFM\"] = (2.05*all_df[\"hog\"]) - (all_df['hog_delta_5']*0.5) - (10 * all_df['corn_delta_5']) - (0.075 * all_df['soybean_delta_5'])\n",
    "# all_df2[\"GFM\"] = (2.05*all_df2[\"hog\"]) - (10 * all_df2['corn_delta_5']) - (0.075 * all_df2['soybean_delta_5'])\n",
    "all_df2 = all_df2.drop(columns=['feeder_cattle', 'live_cattle', 'hog_delta_5', 'corn_delta_5', 'soybean_delta_5'])\n",
    "all_df2.head(10)"
   ]
  },
  {
   "cell_type": "code",
   "execution_count": null,
   "id": "2cb6ebd1",
   "metadata": {},
   "outputs": [],
   "source": [
    "all_df2.plot(figsize=(15,10));"
   ]
  },
  {
   "cell_type": "code",
   "execution_count": null,
   "id": "b20f77f1",
   "metadata": {},
   "outputs": [],
   "source": [
    "def window_data(df, window, feature_col_number, target_col_number):\n",
    "    X = []\n",
    "    y = []\n",
    "#     for i in range(len(df) - window - 1):\n",
    "    for i in range(window, len(df)):\n",
    "#         features = df.iloc[i:(i + window), feature_col_number]\n",
    "#         target = df.iloc[(i + window), target_col_number]\n",
    "        features = df.iloc[i-window:i, feature_col_number]\n",
    "        target = df.iloc[i, target_col_number]\n",
    "        X.append(features)\n",
    "        y.append(target)\n",
    "    return np.array(X), np.array(y).reshape(-1, 1)"
   ]
  },
  {
   "cell_type": "code",
   "execution_count": null,
   "id": "146a5d6d",
   "metadata": {},
   "outputs": [],
   "source": []
  },
  {
   "cell_type": "code",
   "execution_count": null,
   "id": "5db66b9b",
   "metadata": {},
   "outputs": [],
   "source": [
    "window_size = 10\n",
    "\n",
    "# Column index 0 is the 'fng_value' column\n",
    "# Column index 1 is the `Close` column\n",
    "feature_column = 3\n",
    "target_column = 2\n",
    "X, y = window_data(all_df2, window_size, feature_column, target_column)"
   ]
  },
  {
   "cell_type": "code",
   "execution_count": null,
   "id": "639fd54e",
   "metadata": {},
   "outputs": [],
   "source": [
    "y"
   ]
  },
  {
   "cell_type": "code",
   "execution_count": null,
   "id": "c0e5dd7e",
   "metadata": {},
   "outputs": [],
   "source": [
    "pd.DataFrame(X)"
   ]
  },
  {
   "cell_type": "code",
   "execution_count": null,
   "id": "6446f5c7",
   "metadata": {},
   "outputs": [],
   "source": [
    "all_df2.head()"
   ]
  },
  {
   "cell_type": "code",
   "execution_count": null,
   "id": "60e08ef6",
   "metadata": {},
   "outputs": [],
   "source": [
    "all_df2.pct_change(2)"
   ]
  },
  {
   "cell_type": "code",
   "execution_count": null,
   "id": "dea47325",
   "metadata": {},
   "outputs": [],
   "source": [
    "split = int(0.7 * len(X))\n",
    "X_train = X[: split - 1]\n",
    "X_test = X[split:]\n",
    "y_train = y[: split - 1]\n",
    "y_test = y[split:]"
   ]
  },
  {
   "cell_type": "code",
   "execution_count": null,
   "id": "04a18e24",
   "metadata": {},
   "outputs": [],
   "source": [
    "from sklearn.preprocessing import MinMaxScaler\n",
    "# Use the MinMaxScaler to scale data between 0 and 1.\n",
    "scaler = MinMaxScaler()\n",
    "\n",
    "scaler.fit(X)\n",
    "X_train = scaler.transform(X_train)\n",
    "X_test = scaler.transform(X_test)\n",
    "\n",
    "scaler.fit(y)\n",
    "y_train = scaler.transform(y_train)\n",
    "y_test = scaler.transform(y_test)"
   ]
  },
  {
   "cell_type": "code",
   "execution_count": null,
   "id": "ba5157ea",
   "metadata": {},
   "outputs": [],
   "source": [
    "# Reshape the features for the model\n",
    "X_train = X_train.reshape((X_train.shape[0], X_train.shape[1], 1))\n",
    "X_test = X_test.reshape((X_test.shape[0], X_test.shape[1], 1))"
   ]
  },
  {
   "cell_type": "code",
   "execution_count": null,
   "id": "e7029571",
   "metadata": {},
   "outputs": [],
   "source": [
    "from tensorflow.keras.models import Sequential\n",
    "from tensorflow.keras.layers import LSTM, Dense, Dropout"
   ]
  },
  {
   "cell_type": "code",
   "execution_count": null,
   "id": "b77c6696",
   "metadata": {},
   "outputs": [],
   "source": [
    "model = Sequential()\n",
    "\n",
    "number_units = 30\n",
    "dropout_fraction = 0.2\n",
    "\n",
    "# Layer 1\n",
    "model.add(LSTM(\n",
    "    units = number_units,\n",
    "    return_sequences = True,\n",
    "    input_shape = (X_train.shape[1],1))\n",
    "         )\n",
    "model.add(Dropout(dropout_fraction))\n",
    "\n",
    "# Layer 2\n",
    "model.add(LSTM(\n",
    "    units = number_units,\n",
    "    return_sequences = True,\n",
    "        ))\n",
    "model.add(Dropout(dropout_fraction))\n",
    "\n",
    "# Layer 3\n",
    "model.add(LSTM(\n",
    "    units = number_units,\n",
    "    return_sequences = False,\n",
    "        ))\n",
    "model.add(Dropout(dropout_fraction))\n",
    "\n",
    "model.add(Dense(1))"
   ]
  },
  {
   "cell_type": "code",
   "execution_count": null,
   "id": "8a0a6d0d",
   "metadata": {},
   "outputs": [],
   "source": [
    "model.compile(optimizer=\"adam\", loss=\"mean_squared_error\")\n",
    "# model.compile(optimizer=\"adam\", loss=\"binary_crossentropy\", metrics=[\"accuracy\"])"
   ]
  },
  {
   "cell_type": "code",
   "execution_count": null,
   "id": "bd666601",
   "metadata": {},
   "outputs": [],
   "source": [
    "model.summary()"
   ]
  },
  {
   "cell_type": "code",
   "execution_count": null,
   "id": "85dc9157",
   "metadata": {},
   "outputs": [],
   "source": [
    "epochs = 10\n",
    "batch_size = 10\n",
    "model.fit(X_train, y_train, epochs=epochs, shuffle=False, batch_size=batch_size, verbose=1)"
   ]
  },
  {
   "cell_type": "code",
   "execution_count": null,
   "id": "c735eb05",
   "metadata": {},
   "outputs": [],
   "source": [
    "model.evaluate(X_test, y_test)"
   ]
  },
  {
   "cell_type": "code",
   "execution_count": null,
   "id": "66dcac52",
   "metadata": {},
   "outputs": [],
   "source": [
    "y_test"
   ]
  },
  {
   "cell_type": "code",
   "execution_count": null,
   "id": "f35b38b1",
   "metadata": {},
   "outputs": [],
   "source": [
    "predicted = model.predict(X_test)"
   ]
  },
  {
   "cell_type": "code",
   "execution_count": null,
   "id": "9100f7f1",
   "metadata": {},
   "outputs": [],
   "source": [
    "predicted_prices = scaler.inverse_transform(predicted)\n",
    "real_prices = scaler.inverse_transform(y_test.reshape(-1, 1))"
   ]
  },
  {
   "cell_type": "code",
   "execution_count": null,
   "id": "2066dfca",
   "metadata": {},
   "outputs": [],
   "source": [
    "hogs = pd.DataFrame({\n",
    "    \"Real\": real_prices.ravel(),\n",
    "    \"Predicted\": predicted_prices.ravel()\n",
    "}, index = df.index[-len(real_prices): ]) \n",
    "hogs.head()"
   ]
  },
  {
   "cell_type": "code",
   "execution_count": null,
   "id": "31654692",
   "metadata": {},
   "outputs": [],
   "source": [
    "hogs.hvplot.line(xlabel=\"Date\", ylabel=\"Price\")"
   ]
  },
  {
   "cell_type": "code",
   "execution_count": null,
   "id": "1652e18c",
   "metadata": {},
   "outputs": [],
   "source": []
  },
  {
   "cell_type": "code",
   "execution_count": null,
   "id": "4034ac92",
   "metadata": {},
   "outputs": [],
   "source": []
  }
 ],
 "metadata": {
  "kernelspec": {
   "display_name": "Python [conda env:root]",
   "language": "python",
   "name": "conda-root-py"
  },
  "language_info": {
   "codemirror_mode": {
    "name": "ipython",
    "version": 3
   },
   "file_extension": ".py",
   "mimetype": "text/x-python",
   "name": "python",
   "nbconvert_exporter": "python",
   "pygments_lexer": "ipython3",
   "version": "3.8.8"
  }
 },
 "nbformat": 4,
 "nbformat_minor": 5
}
